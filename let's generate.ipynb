{
 "cells": [
  {
   "cell_type": "code",
   "execution_count": 1,
   "metadata": {},
   "outputs": [],
   "source": [
    "import torch as th \n",
    "import torch.nn as nn \n",
    "import torch.nn.functional as F \n",
    "import torch.optim as optim\n",
    "from torch.utils.data import  random_split, Dataset, DataLoader\n",
    "import torchvision\n",
    "import torchvision.transforms as T\n",
    "import pytorch_lightning as pl \n",
    "from pytorch_lightning import Trainer, LightningModule\n",
    "from pytorch_lightning.callbacks import RichProgressBar\n",
    "from pytorch_lightning.callbacks.progress.rich_progress import RichProgressBarTheme\n",
    "import torchdyn \n",
    "from torchdyn.core import NeuralODE\n",
    "from torchgan.losses import  MinimaxGeneratorLoss, MinimaxDiscriminatorLoss\n",
    "# from ignite.metrics import FID\n",
    "\n",
    "import os \n",
    "import cv2 \n",
    "import numpy as np \n",
    "import matplotlib.pyplot as plt\n",
    "\n",
    "import warnings\n",
    "warnings.filterwarnings(\"ignore\")"
   ]
  },
  {
   "cell_type": "code",
   "execution_count": 2,
   "metadata": {},
   "outputs": [],
   "source": [
    "class GenerativeData(Dataset):\n",
    "    def __init__(self, path, inpshape=(14, 18), outshape=(56, 72), datasize:int=500):\n",
    "        super(GenerativeData, self).__init__()\n",
    "        self.path = path \n",
    "        self.inpshape = inpshape\n",
    "        self.outshape = outshape\n",
    "        self.datasize = datasize\n",
    "        self.inpimg, self.outimg = self.datareader()\n",
    "        self.device = th.device(\"mps\")\n",
    "\n",
    "    def preprocess(self, image, imagesize):\n",
    "        process = T.Compose([T.ToTensor(), \n",
    "                             T.Resize(imagesize),\n",
    "                             T.Normalize(mean=(0.5, 0.5, 0.5), std=(1, 1, 1))])\n",
    "        return process(np.array(image, dtype=np.float32))\n",
    "\n",
    "    def datareader(self):\n",
    "        X = []\n",
    "        Y = []\n",
    "        files = os.listdir(self.path)\n",
    "        for c, file in enumerate(files):\n",
    "            image = cv2.imread(self.path+file)\n",
    "            X.append(self.preprocess(image, self.inpshape))\n",
    "            Y.append(self.preprocess(image, self.outshape))\n",
    "            if c>self.datasize:\n",
    "                break\n",
    "\n",
    "        return X, Y\n",
    "    \n",
    "    def __len__(self):\n",
    "        return len(self.inpimg)\n",
    "    \n",
    "    def __getitem__(self, idx):\n",
    "        inpimg = th.tensor(self.inpimg[idx], dtype=th.float32).to(self.device)\n",
    "        outimg = th.tensor(self.outimg[idx], dtype=th.float32).to(self.device)\n",
    "        return {\"inputs\": inpimg, \"outputs\": outimg}             "
   ]
  },
  {
   "cell_type": "code",
   "execution_count": 3,
   "metadata": {},
   "outputs": [],
   "source": [
    "class DiscriminatorBlock(nn.Module):\n",
    "    def __init__(self, num:int, infilter:int, outfilter:int, kernel:int, moment:float=0.9, alpha:float=0.1):\n",
    "        super(DiscriminatorBlock, self).__init__()\n",
    "        self.conv = nn.ModuleList(modules=[nn.Conv2d(infilter, outfilter, kernel)])\n",
    "        self.norm = nn.ModuleList(modules=[nn.BatchNorm2d(outfilter, momentum=moment)])\n",
    "        self.pad  = nn.ZeroPad2d(int((kernel-1)//2))\n",
    "        self.act = nn.LeakyReLU(alpha)\n",
    "        self.pool = nn.MaxPool2d(2, 2)\n",
    "        \n",
    "        for _ in range(num-1):\n",
    "            self.conv.append(nn.Conv2d(outfilter, outfilter, kernel))\n",
    "            self.norm.append(nn.BatchNorm2d(outfilter, momentum=moment))\n",
    "\n",
    "    def forward(self, x):\n",
    "        for conv, norm in zip(self.conv, self.norm):\n",
    "            x = self.act(norm(conv(self.pad(x))))\n",
    "        return self.pool(x)\n",
    "\n",
    "class Discriminator(nn.Module):\n",
    "    def __init__(self, num:list=[1, 1 ], filter:int=16, start_kernel:int=7, kernel:int=3, \n",
    "                 moment:float=0.9, alpha:float=0.1, dense:int=64, gf:float=2.0, drop:float=0.2):\n",
    "        super(Discriminator, self).__init__()\n",
    "        self.convblock = nn.ModuleList(modules=[DiscriminatorBlock(1, 3, filter, start_kernel, moment, alpha)])\n",
    "        for n in num:\n",
    "            self.convblock.append(DiscriminatorBlock(n, filter, int(filter*gf), kernel, moment, alpha))\n",
    "            filter = int(filter*gf)\n",
    "\n",
    "        self.pool = nn.AdaptiveAvgPool2d((1, 1))\n",
    "        self.flat = nn.Flatten()\n",
    "        self.drop = nn.Dropout(drop)\n",
    "        self.dense = nn.Linear(filter, dense)\n",
    "        self.final = nn.Linear(dense, 1)\n",
    "\n",
    "    def forward(self, x):\n",
    "        for convblock in self.convblock:\n",
    "            x = convblock(x)\n",
    "        x = self.flat(self.pool(x))\n",
    "        x = F.relu(self.dense(x))\n",
    "        return F.softmax(self.final(x), dim=-1)"
   ]
  },
  {
   "cell_type": "code",
   "execution_count": 4,
   "metadata": {},
   "outputs": [],
   "source": [
    "class GeneratorBlock(nn.Module):\n",
    "    def __init__(self, num:int, infilter:int, outfilter:int, kernel:int, moment:float=0.9, alpha:float=0.1):\n",
    "        super(GeneratorBlock, self).__init__()\n",
    "        pad  = int((kernel-1)//2)\n",
    "        self.conv = nn.ModuleList(modules=[nn.ConvTranspose2d(infilter, outfilter, kernel, stride=2, padding=pad)])\n",
    "        self.norm = nn.ModuleList(modules=[nn.BatchNorm2d(outfilter, momentum=moment)])\n",
    "        self.act = nn.LeakyReLU(alpha)\n",
    "        \n",
    "        for _ in range(num-1):\n",
    "            self.conv.append(nn.ConvTranspose2d(outfilter, outfilter, kernel, padding=pad))\n",
    "            self.norm.append(nn.BatchNorm2d(outfilter, momentum=moment))\n",
    "\n",
    "    def forward(self, x):\n",
    "        for conv, norm in zip(self.conv, self.norm):\n",
    "            x = self.act(norm(conv(x)))     \n",
    "        return x\n",
    "\n",
    "class Generator(nn.Module):\n",
    "    def __init__(self, num:list=[1, 1], filter:int=16, start_kernel:int=7, kernel:int=3, \n",
    "                 moment:float=0.9, alpha:float=0.1, gf:float=2.0):\n",
    "        super(Generator, self).__init__()\n",
    "        self.convblock = [GeneratorBlock(1, 3, filter, start_kernel, moment, alpha)] \n",
    "        for n in num:\n",
    "            self.convblock.append(GeneratorBlock(n, filter, int(filter*gf), kernel, moment, alpha))\n",
    "            filter = int(filter*gf)\n",
    "\n",
    "        self.convblock.append(GeneratorBlock(1, filter, 3, kernel, moment, alpha))\n",
    "        self.convblock = nn.ModuleList(modules=self.convblock)\n",
    "\n",
    "    def forward(self, x):\n",
    "        for convblock in self.convblock:\n",
    "            x = convblock(x)\n",
    "        return x"
   ]
  },
  {
   "cell_type": "code",
   "execution_count": 5,
   "metadata": {},
   "outputs": [],
   "source": [
    "class GAN(nn.Module):\n",
    "    def __init__(self):\n",
    "        super(GAN, self).__init__()\n",
    "        self.discriminator = Discriminator()\n",
    "        self.generator = Generator()\n",
    "\n",
    "    def forward(self,gen, dis):\n",
    "        gen = self.generator(gen)\n",
    "        fake = self.discriminator(gen)\n",
    "        true = self.discriminator(dis)\n",
    "        return fake, true\n",
    "    "
   ]
  },
  {
   "cell_type": "code",
   "execution_count": 6,
   "metadata": {},
   "outputs": [],
   "source": [
    "def datasplit(dataset, trainbatch, validbatch, split):\n",
    "    split = int(dataset.__len__()*split)\n",
    "    traindata, validdata = random_split(dataset, [split, dataset.__len__()-split])\n",
    "    traindata = DataLoader(traindata, batch_size=trainbatch, shuffle=True)\n",
    "    validdata = DataLoader(validdata, batch_size=validbatch)\n",
    "    return traindata, validdata"
   ]
  },
  {
   "cell_type": "code",
   "execution_count": 7,
   "metadata": {},
   "outputs": [],
   "source": [
    "device = th.device(\"mps\")"
   ]
  },
  {
   "cell_type": "code",
   "execution_count": 8,
   "metadata": {},
   "outputs": [],
   "source": [
    "path = r'/Users/suyashsachdeva/Desktop/GyanBhandar/sea/seacreature_images_transformed/seacreature_images_transformed/'\n",
    "traindata, validdata = datasplit(GenerativeData(path), 10, 10 , 0.9)\n",
    "gan = GAN()\n",
    "gan = gan.to(device)"
   ]
  },
  {
   "cell_type": "code",
   "execution_count": 9,
   "metadata": {},
   "outputs": [
    {
     "name": "stdout",
     "output_type": "stream",
     "text": [
      "Epoch: 1/3\n",
      "\tGenerator Loss: 0.3132617473602295 || Discriminator Loss: 0.21215517818927765 || Generator Loss: 0.31326156854629517 || Discriminator Loss: 1.6265230178833008\n",
      "Epoch: 2/3\n"
     ]
    },
    {
     "ename": "KeyboardInterrupt",
     "evalue": "",
     "output_type": "error",
     "traceback": [
      "\u001b[0;31m---------------------------------------------------------------------------\u001b[0m",
      "\u001b[0;31mKeyboardInterrupt\u001b[0m                         Traceback (most recent call last)",
      "Cell \u001b[0;32mIn[9], line 23\u001b[0m\n\u001b[1;32m     21\u001b[0m doptim\u001b[39m.\u001b[39mzero_grad()\n\u001b[1;32m     22\u001b[0m gloss\u001b[39m.\u001b[39mbackward(retain_graph\u001b[39m=\u001b[39m\u001b[39mTrue\u001b[39;00m)\n\u001b[0;32m---> 23\u001b[0m dloss\u001b[39m.\u001b[39;49mbackward(retain_graph\u001b[39m=\u001b[39;49m\u001b[39mTrue\u001b[39;49;00m)\n\u001b[1;32m     24\u001b[0m goptim\u001b[39m.\u001b[39mstep()\n\u001b[1;32m     25\u001b[0m doptim\u001b[39m.\u001b[39mstep()\n",
      "File \u001b[0;32m/opt/homebrew/Caskroom/miniforge/base/envs/CNN/lib/python3.10/site-packages/torch/_tensor.py:488\u001b[0m, in \u001b[0;36mTensor.backward\u001b[0;34m(self, gradient, retain_graph, create_graph, inputs)\u001b[0m\n\u001b[1;32m    478\u001b[0m \u001b[39mif\u001b[39;00m has_torch_function_unary(\u001b[39mself\u001b[39m):\n\u001b[1;32m    479\u001b[0m     \u001b[39mreturn\u001b[39;00m handle_torch_function(\n\u001b[1;32m    480\u001b[0m         Tensor\u001b[39m.\u001b[39mbackward,\n\u001b[1;32m    481\u001b[0m         (\u001b[39mself\u001b[39m,),\n\u001b[0;32m   (...)\u001b[0m\n\u001b[1;32m    486\u001b[0m         inputs\u001b[39m=\u001b[39minputs,\n\u001b[1;32m    487\u001b[0m     )\n\u001b[0;32m--> 488\u001b[0m torch\u001b[39m.\u001b[39;49mautograd\u001b[39m.\u001b[39;49mbackward(\n\u001b[1;32m    489\u001b[0m     \u001b[39mself\u001b[39;49m, gradient, retain_graph, create_graph, inputs\u001b[39m=\u001b[39;49minputs\n\u001b[1;32m    490\u001b[0m )\n",
      "File \u001b[0;32m/opt/homebrew/Caskroom/miniforge/base/envs/CNN/lib/python3.10/site-packages/torch/autograd/__init__.py:197\u001b[0m, in \u001b[0;36mbackward\u001b[0;34m(tensors, grad_tensors, retain_graph, create_graph, grad_variables, inputs)\u001b[0m\n\u001b[1;32m    192\u001b[0m     retain_graph \u001b[39m=\u001b[39m create_graph\n\u001b[1;32m    194\u001b[0m \u001b[39m# The reason we repeat same the comment below is that\u001b[39;00m\n\u001b[1;32m    195\u001b[0m \u001b[39m# some Python versions print out the first line of a multi-line function\u001b[39;00m\n\u001b[1;32m    196\u001b[0m \u001b[39m# calls in the traceback and some print out the last line\u001b[39;00m\n\u001b[0;32m--> 197\u001b[0m Variable\u001b[39m.\u001b[39;49m_execution_engine\u001b[39m.\u001b[39;49mrun_backward(  \u001b[39m# Calls into the C++ engine to run the backward pass\u001b[39;49;00m\n\u001b[1;32m    198\u001b[0m     tensors, grad_tensors_, retain_graph, create_graph, inputs,\n\u001b[1;32m    199\u001b[0m     allow_unreachable\u001b[39m=\u001b[39;49m\u001b[39mTrue\u001b[39;49;00m, accumulate_grad\u001b[39m=\u001b[39;49m\u001b[39mTrue\u001b[39;49;00m)\n",
      "\u001b[0;31mKeyboardInterrupt\u001b[0m: "
     ]
    }
   ],
   "source": [
    "epochs = 3\n",
    "learning_rate=1e-4\n",
    "decay = 1e-2\n",
    "for epoch in range(epochs):\n",
    "    print(f\"Epoch: {epoch+1}/{epochs}\")\n",
    "    glss = 0\n",
    "    gvls = 0\n",
    "    dlss = 0\n",
    "    dvls = 0\n",
    "    learning_rate = learning_rate/(1+epoch*decay)\n",
    "    goptim = optim.Adam(gan.generator.parameters(), lr=learning_rate)\n",
    "    doptim = optim.Adam(gan.discriminator.parameters(), lr=learning_rate)\n",
    "    for batch in traindata:\n",
    "        gen = batch[\"inputs\"]\n",
    "        dis = batch[\"outputs\"]\n",
    "        fake, true = gan(gen, dis)\n",
    "        gloss = MinimaxGeneratorLoss()(fake)\n",
    "        dloss = MinimaxDiscriminatorLoss()(true, fake)\n",
    "\n",
    "        goptim.zero_grad()\n",
    "        doptim.zero_grad()\n",
    "        gloss.backward(retain_graph=True)\n",
    "        dloss.backward(retain_graph=True)\n",
    "        goptim.step()\n",
    "        doptim.step()\n",
    "        glss = glss+gloss\n",
    "        dlss = dlss+dloss\n",
    "    \n",
    "    for valid in validdata:\n",
    "        gen = batch[\"inputs\"]\n",
    "        dis = batch[\"outputs\"]\n",
    "        fake, true = G=gan(gen, dis)\n",
    "        gloss = MinimaxGeneratorLoss()(fake)\n",
    "        dloss = MinimaxDiscriminatorLoss()(true, fake)\n",
    "\n",
    "        gvls = gvls+gloss\n",
    "        dvls = dvls+dloss         \n",
    "    print(f\"\\tGenerator Loss: {glss/len(traindata)} || Discriminator Loss: {dvls/len(traindata)} || Generator Loss: {gvls/len(validdata)} || Discriminator Loss: {dvls/len(validdata)}\")\n"
   ]
  },
  {
   "cell_type": "code",
   "execution_count": null,
   "metadata": {},
   "outputs": [
    {
     "ename": "TypeError",
     "evalue": "'int' object is not subscriptable",
     "output_type": "error",
     "traceback": [
      "\u001b[0;31m---------------------------------------------------------------------------\u001b[0m",
      "\u001b[0;31mTypeError\u001b[0m                                 Traceback (most recent call last)",
      "Cell \u001b[0;32mIn[26], line 1\u001b[0m\n\u001b[0;32m----> 1\u001b[0m traindata[\u001b[39m\"\u001b[39;49m\u001b[39minputs\u001b[39;49m\u001b[39m\"\u001b[39;49m][\u001b[39m0\u001b[39m]\n",
      "\u001b[0;31mTypeError\u001b[0m: 'int' object is not subscriptable"
     ]
    }
   ],
   "source": [
    "traindata[\"inputs\"][0]"
   ]
  },
  {
   "cell_type": "code",
   "execution_count": null,
   "metadata": {},
   "outputs": [],
   "source": []
  }
 ],
 "metadata": {
  "kernelspec": {
   "display_name": "CNN",
   "language": "python",
   "name": "python3"
  },
  "language_info": {
   "codemirror_mode": {
    "name": "ipython",
    "version": 3
   },
   "file_extension": ".py",
   "mimetype": "text/x-python",
   "name": "python",
   "nbconvert_exporter": "python",
   "pygments_lexer": "ipython3",
   "version": "3.10.9"
  },
  "orig_nbformat": 4,
  "vscode": {
   "interpreter": {
    "hash": "a580aac5ad65c26b09914c4d39579c9a7b96bf6be88d0e5d5e57a0b213e38927"
   }
  }
 },
 "nbformat": 4,
 "nbformat_minor": 2
}
