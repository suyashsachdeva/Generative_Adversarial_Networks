{
 "cells": [
  {
   "cell_type": "code",
   "execution_count": 1,
   "metadata": {},
   "outputs": [],
   "source": [
    "import torch as th \n",
    "import torch.nn as nn \n",
    "import torch.nn.functional as F \n",
    "import torch.optim as optim\n",
    "from torch.utils.data import  random_split, Dataset, DataLoader\n",
    "import torchvision\n",
    "import torchvision.transforms as T\n",
    "import pytorch_lightning as pl \n",
    "from pytorch_lightning import Trainer, LightningModule\n",
    "from pytorch_lightning.callbacks import RichProgressBar\n",
    "from pytorch_lightning.callbacks.progress.rich_progress import RichProgressBarTheme\n",
    "import torchdyn \n",
    "from torchdyn.core import NeuralODE\n",
    "from torchgan.losses import  MinimaxGeneratorLoss, MinimaxDiscriminatorLoss\n",
    "from ignite.metrics import FID\n",
    "\n",
    "import os \n",
    "import cv2 \n",
    "import numpy as np \n",
    "import matplotlib.pyplot as plt\n",
    "\n",
    "import warnings\n",
    "warnings.filterwarnings(\"ignore\")"
   ]
  },
  {
   "cell_type": "code",
   "execution_count": 2,
   "metadata": {},
   "outputs": [],
   "source": [
    "class GenerativeData(Dataset):\n",
    "    def __init__(self, path, inpshape=(28, 36), outshape=(224, 288)):\n",
    "        super(GenerativeData, self).__init__()\n",
    "        self.path = path \n",
    "        self.inpshape = inpshape\n",
    "        self.outshape = outshape\n",
    "        self.inpimg, self.outimg = self.datareader()\n",
    "\n",
    "    def preprocess(self, image, imagesize):\n",
    "        process = T.Compose([T.ToTensor(), \n",
    "                             T.Resize(imagesize),\n",
    "                             T.Normalize(mean=(0.5, 0.5, 0.5), std=(1, 1, 1))])\n",
    "        return process(np.array(image, dtype=np.float32))\n",
    "\n",
    "    def datareader(self):\n",
    "        X = []\n",
    "        Y = []\n",
    "        files = os.listdir(self.path)\n",
    "        for c, file in enumerate(files):\n",
    "            image = cv2.imread(self.path+file)\n",
    "            X.append(self.preprocess(image, self.inpshape))\n",
    "            Y.append(self.preprocess(image, self.outshape))\n",
    "\n",
    "        return X, Y\n",
    "    \n",
    "    def __len__(self):\n",
    "        return len(self.inpimg)\n",
    "    \n",
    "    def __getitem__(self, idx):\n",
    "        inpimg = th.tensor(self.inpimg[idx], dtype=th.float32)\n",
    "        outimg = th.tensor(self.outimg[idx], dtype=th.float32)\n",
    "        return {\"inputs\": inpimg, \"outputs\": outimg}             "
   ]
  },
  {
   "cell_type": "code",
   "execution_count": 3,
   "metadata": {},
   "outputs": [],
   "source": [
    "class DiscriminatorBlock(nn.Module):\n",
    "    def __init__(self, num:int, infilter:int, outfilter:int, kernel:int, moment:float=0.9, alpha:float=0.1):\n",
    "        super(DiscriminatorBlock, self).__init__()\n",
    "        self.conv = nn.ModuleList(modules=[nn.Conv2d(infilter, outfilter, kernel)])\n",
    "        self.norm = nn.ModuleList(modules=[nn.BatchNorm2d(outfilter, momentum=moment)])\n",
    "        self.pad  = nn.ZeroPad2d(int((kernel-1)//2))\n",
    "        self.act = nn.LeakyReLU(alpha)\n",
    "        self.pool = nn.MaxPool2d(2, 2)\n",
    "        \n",
    "        for _ in range(num-1):\n",
    "            self.conv.append(nn.Conv2d(outfilter, outfilter, kernel))\n",
    "            self.norm.append(nn.BatchNorm2d(outfilter, momentum=moment))\n",
    "\n",
    "    def forward(self, x):\n",
    "        for conv, norm in zip(self.conv, self.norm):\n",
    "            x = self.act(norm(conv(self.pad(x))))\n",
    "        return self.pool(x)\n",
    "\n",
    "class Discriminator(nn.Module):\n",
    "    def __init__(self, num:list=[2, 2, 2, 2], filter:int=64, start_kernel:int=7, kernel:int=3, \n",
    "                 moment:float=0.9, alpha:float=0.1, dense:int=128, gf:float=2.0, drop:float=0.2):\n",
    "        super(Discriminator, self).__init__()\n",
    "        self.convblock = nn.ModuleList(modules=[DiscriminatorBlock(1, 3, filter, start_kernel, moment, alpha)])\n",
    "        for n in num:\n",
    "            self.convblock.append(DiscriminatorBlock(n, filter, int(filter*gf), kernel, moment, alpha))\n",
    "            filter = int(filter*gf)\n",
    "\n",
    "        self.pool = nn.AdaptiveAvgPool2d((1, 1))\n",
    "        self.flat = nn.Flatten()\n",
    "        self.drop = nn.Dropout(drop)\n",
    "        self.dense = nn.Linear(filter, dense)\n",
    "        self.final = nn.Linear(dense, 1)\n",
    "\n",
    "    def forward(self, x):\n",
    "        for convblock in self.convblock:\n",
    "            x = convblock(x)\n",
    "        x = self.flat(self.pool(x))\n",
    "        x = F.relu(self.dense(x))\n",
    "        return F.softmax(self.final(x), dim=-1)"
   ]
  },
  {
   "cell_type": "code",
   "execution_count": 4,
   "metadata": {},
   "outputs": [],
   "source": [
    "class GeneratorBlock(nn.Module):\n",
    "    def __init__(self, num:int, infilter:int, outfilter:int, kernel:int, moment:float=0.9, alpha:float=0.1):\n",
    "        super(GeneratorBlock, self).__init__()\n",
    "        pad  = int((kernel-1)//2)\n",
    "        self.conv = nn.ModuleList(modules=[nn.ConvTranspose2d(infilter, outfilter, kernel, stride=2, padding=pad)])\n",
    "        self.norm = nn.ModuleList(modules=[nn.BatchNorm2d(outfilter, momentum=moment)])\n",
    "        self.act = nn.LeakyReLU(alpha)\n",
    "        \n",
    "        for _ in range(num-1):\n",
    "            self.conv.append(nn.ConvTranspose2d(outfilter, outfilter, kernel, padding=pad))\n",
    "            self.norm.append(nn.BatchNorm2d(outfilter, momentum=moment))\n",
    "\n",
    "    def forward(self, x):\n",
    "        for conv, norm in zip(self.conv, self.norm):\n",
    "            x = self.act(norm(conv(x)))     \n",
    "        return x\n",
    "\n",
    "class Generator(nn.Module):\n",
    "    def __init__(self, num:list=[3, 3, 3], filter:int=64, start_kernel:int=7, kernel:int=3, \n",
    "                 moment:float=0.9, alpha:float=0.1, gf:float=2.0):\n",
    "        super(Generator, self).__init__()\n",
    "        self.convblock = [GeneratorBlock(1, 3, filter, start_kernel, moment, alpha)] \n",
    "        for n in num:\n",
    "            self.convblock.append(GeneratorBlock(n, filter, int(filter*gf), kernel, moment, alpha))\n",
    "            filter = int(filter*gf)\n",
    "\n",
    "        self.convblock.append(GeneratorBlock(1, filter, 3, kernel, moment, alpha))\n",
    "        self.convblock = nn.ModuleList(modules=self.convblock)\n",
    "\n",
    "    def forward(self, x):\n",
    "        for convblock in self.convblock:\n",
    "            x = convblock(x)\n",
    "        return x"
   ]
  },
  {
   "cell_type": "code",
   "execution_count": 8,
   "metadata": {},
   "outputs": [],
   "source": [
    "class GAN(LightningModule):\n",
    "    def __init__(self, dataset:Dataset, batchsize:int=25, validbatchsize:int=10, split:float=0.3, lr:float=1e-4):\n",
    "        super(GAN, self).__init__()\n",
    "        self.discriminator = Discriminator()\n",
    "        self.generator = Generator()\n",
    "        self.batchsize = batchsize\n",
    "        self.validbatchsize = validbatchsize\n",
    "        split = int(dataset.__len__()*split)\n",
    "        self.traindata, self.validdata = random_split(dataset, [split, dataset.__len__()-split])\n",
    "        self.lr = lr\n",
    "\n",
    "    def forward(self,gen, dis):\n",
    "        true = self.discriminator(dis)\n",
    "        gen = self.generator(gen)\n",
    "        fake = self.discriminator(gen)\n",
    "        return fake, true\n",
    "\n",
    "    def training_step(self, batch, batch_idx, optimizer_idx):\n",
    "        gen = batch[\"inputs\"]\n",
    "        dis = batch[\"outputs\"]\n",
    "        fake, true = self(gen, dis)\n",
    "        gloss = MinimaxGeneratorLoss(fake)\n",
    "        dloss = MinimaxDiscriminatorLoss(true, fake)\n",
    "        # fid = FID()(dis, fake)\n",
    "        cur_lr = self.trainer.optimizers[0].param_groups[0]['lr']\n",
    "        self.log(\"lr\", cur_lr, prog_bar=True, on_step=True)\n",
    "        self.log_dict({\"generator_loss\": gloss, \"discriminator_loss\": dloss}, on_step=True, on_epoch=True, prog_bar=True, logger=False)\n",
    "        if optimizer_idx==0:\n",
    "            return gloss\n",
    "        else:\n",
    "            return dloss\n",
    "    \n",
    "    def validation_step(self, batch, batch_idx):\n",
    "        gen = batch[\"inputs\"]\n",
    "        dis = batch[\"outputs\"]\n",
    "        fake, true = self(gen, dis)\n",
    "        gloss = MinimaxGeneratorLoss(fake)\n",
    "        dloss = MinimaxDiscriminatorLoss(true, fake)\n",
    "        # fid = FID()(dis, fake)\n",
    "        cur_lr = self.trainer.optimizers[0].param_groups[0]['lr']        \n",
    "        self.log(\"lr\", cur_lr, prog_bar=True, on_step=True)\n",
    "        self.log_dict({\"generator_loss\": gloss, \"discriminator_loss\": dloss}, on_step=True, on_epoch=True, prog_bar=True, logger=False)\n",
    "    \n",
    "\n",
    "    def configure_optimizers(self):\n",
    "        goptim = optim.Adam(self.generator.parameters(), lr=self.lr)\n",
    "        doptim = optim.Adam(self.discriminator.parameters(), lr=self.lr)\n",
    "        gsch = optim.lr_scheduler.StepLR(goptim, step_size  = 10 , gamma = 0.1)\n",
    "        dsch = optim.lr_scheduler.StepLR(doptim, step_size  = 10 , gamma = 0.1)\n",
    "        return  [{\"optimizer\": goptim, \"lr_schedular\": {\"schedular\":gsch, \"monitor\": \"generator_loss\"}} , \n",
    "                 {\"optimizer\": doptim, \"lr_schedular\": {\"schedular\":dsch, \"monitor\": \"discriminator_loss\"}}]\n",
    "    \n",
    "    def train_dataloader(self):\n",
    "        return DataLoader(self.traindata, batch_size=self.batchsize, shuffle=True)\n",
    "    \n",
    "    def val_dataloader(self):\n",
    "        return DataLoader(self.validdata, batch_size=self.validbatchsize, shuffle=True)"
   ]
  },
  {
   "cell_type": "code",
   "execution_count": 9,
   "metadata": {},
   "outputs": [],
   "source": [
    "path = r'C:\\Users\\suyash\\Downloads\\SeaGAN\\seacreature_images_transformed\\seacreature_images_transformed/'\n",
    "dataset = GenerativeData(path)\n",
    "\n",
    "progress_bar = RichProgressBar(theme=RichProgressBarTheme(description=\"blue\",progress_bar=\"green_yellow\",progress_bar_finished=\"green1\",\n",
    "        progress_bar_pulse=\"#6206E0\",batch_progress=\"blue\",  time=\"black\",processing_speed=\"black\",metrics=\"black\", ),)\n"
   ]
  },
  {
   "cell_type": "code",
   "execution_count": 10,
   "metadata": {},
   "outputs": [
    {
     "name": "stderr",
     "output_type": "stream",
     "text": [
      "GPU available: False, used: False\n",
      "TPU available: False, using: 0 TPU cores\n",
      "IPU available: False, using: 0 IPUs\n",
      "HPU available: False, using: 0 HPUs\n",
      "Missing logger folder: c:\\Users\\suyash\\Desktop\\KACHRA\\laohub\\Smile_in_Pain\\Ajgar_Ke_Jalve\\Artificial_Intelligence\\Neural_Networks\\Unsupervised_Learning\\Generative_Nets\\IMAGE\\lightning_logs\n"
     ]
    },
    {
     "data": {
      "text/html": [
       "<pre style=\"white-space:pre;overflow-x:auto;line-height:normal;font-family:Menlo,'DejaVu Sans Mono',consolas,'Courier New',monospace\">┏━━━┳━━━━━━━━━━━━━━━┳━━━━━━━━━━━━━━━┳━━━━━━━━┓\n",
       "┃<span style=\"color: #800080; text-decoration-color: #800080; font-weight: bold\">   </span>┃<span style=\"color: #800080; text-decoration-color: #800080; font-weight: bold\"> Name          </span>┃<span style=\"color: #800080; text-decoration-color: #800080; font-weight: bold\"> Type          </span>┃<span style=\"color: #800080; text-decoration-color: #800080; font-weight: bold\"> Params </span>┃\n",
       "┡━━━╇━━━━━━━━━━━━━━━╇━━━━━━━━━━━━━━━╇━━━━━━━━┩\n",
       "│<span style=\"color: #7f7f7f; text-decoration-color: #7f7f7f\"> 0 </span>│ discriminator │ Discriminator │ 19.0 M │\n",
       "│<span style=\"color: #7f7f7f; text-decoration-color: #7f7f7f\"> 1 </span>│ generator     │ Generator     │  7.8 M │\n",
       "└───┴───────────────┴───────────────┴────────┘\n",
       "</pre>\n"
      ],
      "text/plain": [
       "┏━━━┳━━━━━━━━━━━━━━━┳━━━━━━━━━━━━━━━┳━━━━━━━━┓\n",
       "┃\u001b[1;35m \u001b[0m\u001b[1;35m \u001b[0m\u001b[1;35m \u001b[0m┃\u001b[1;35m \u001b[0m\u001b[1;35mName         \u001b[0m\u001b[1;35m \u001b[0m┃\u001b[1;35m \u001b[0m\u001b[1;35mType         \u001b[0m\u001b[1;35m \u001b[0m┃\u001b[1;35m \u001b[0m\u001b[1;35mParams\u001b[0m\u001b[1;35m \u001b[0m┃\n",
       "┡━━━╇━━━━━━━━━━━━━━━╇━━━━━━━━━━━━━━━╇━━━━━━━━┩\n",
       "│\u001b[2m \u001b[0m\u001b[2m0\u001b[0m\u001b[2m \u001b[0m│ discriminator │ Discriminator │ 19.0 M │\n",
       "│\u001b[2m \u001b[0m\u001b[2m1\u001b[0m\u001b[2m \u001b[0m│ generator     │ Generator     │  7.8 M │\n",
       "└───┴───────────────┴───────────────┴────────┘\n"
      ]
     },
     "metadata": {},
     "output_type": "display_data"
    },
    {
     "data": {
      "text/html": [
       "<pre style=\"white-space:pre;overflow-x:auto;line-height:normal;font-family:Menlo,'DejaVu Sans Mono',consolas,'Courier New',monospace\"><span style=\"font-weight: bold\">Trainable params</span>: 26.7 M                                                                                           \n",
       "<span style=\"font-weight: bold\">Non-trainable params</span>: 0                                                                                            \n",
       "<span style=\"font-weight: bold\">Total params</span>: 26.7 M                                                                                               \n",
       "<span style=\"font-weight: bold\">Total estimated model params size (MB)</span>: 106                                                                        \n",
       "</pre>\n"
      ],
      "text/plain": [
       "\u001b[1mTrainable params\u001b[0m: 26.7 M                                                                                           \n",
       "\u001b[1mNon-trainable params\u001b[0m: 0                                                                                            \n",
       "\u001b[1mTotal params\u001b[0m: 26.7 M                                                                                               \n",
       "\u001b[1mTotal estimated model params size (MB)\u001b[0m: 106                                                                        \n"
      ]
     },
     "metadata": {},
     "output_type": "display_data"
    },
    {
     "data": {
      "application/vnd.jupyter.widget-view+json": {
       "model_id": "a80c854b72f54733a7a84bcd4a13778f",
       "version_major": 2,
       "version_minor": 0
      },
      "text/plain": [
       "Output()"
      ]
     },
     "metadata": {},
     "output_type": "display_data"
    }
   ],
   "source": [
    "learn = GAN(dataset)\n",
    "trainer = pl.Trainer(min_epochs=30, max_epochs=30, callbacks=progress_bar)\n",
    "trainer.fit(learn)"
   ]
  }
 ],
 "metadata": {
  "kernelspec": {
   "display_name": "Python 3",
   "language": "python",
   "name": "python3"
  },
  "language_info": {
   "codemirror_mode": {
    "name": "ipython",
    "version": 3
   },
   "file_extension": ".py",
   "mimetype": "text/x-python",
   "name": "python",
   "nbconvert_exporter": "python",
   "pygments_lexer": "ipython3",
   "version": "3.9.4"
  },
  "orig_nbformat": 4
 },
 "nbformat": 4,
 "nbformat_minor": 2
}
